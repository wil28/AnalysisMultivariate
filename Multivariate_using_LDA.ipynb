{
  "nbformat": 4,
  "nbformat_minor": 0,
  "metadata": {
    "colab": {
      "provenance": [],
      "authorship_tag": "ABX9TyO8wGu903sT6NmOybpA5v8L",
      "include_colab_link": true
    },
    "kernelspec": {
      "name": "python3",
      "display_name": "Python 3"
    },
    "language_info": {
      "name": "python"
    }
  },
  "cells": [
    {
      "cell_type": "markdown",
      "metadata": {
        "id": "view-in-github",
        "colab_type": "text"
      },
      "source": [
        "<a href=\"https://colab.research.google.com/github/wil28/AnalysisMultivariate/blob/main/Multivariate_using_LDA.ipynb\" target=\"_parent\"><img src=\"https://colab.research.google.com/assets/colab-badge.svg\" alt=\"Open In Colab\"/></a>"
      ]
    },
    {
      "cell_type": "code",
      "execution_count": null,
      "metadata": {
        "id": "PGXvM2cUwubq"
      },
      "outputs": [],
      "source": [
        "import pandas as pd\n",
        "import numpy as np\n",
        "from sklearn.discriminant_analysis import LinearDiscriminantAnalysis as LDA\n",
        "from sklearn.metrics import accuracy_score"
      ]
    },
    {
      "cell_type": "code",
      "source": [
        "# Data preparation\n",
        "data = {\n",
        "    'Group': ['MEMORY', 'MEMORY', 'MEMORY', 'PERCEPTION', 'PERCEPTION', 'PERCEPTION', 'COMMUNICATION', 'COMMUNICATION', 'COMMUNICATION'],\n",
        "    'PERF': [87, 97, 112, 102, 85, 76, 120, 85, 99],\n",
        "    'INFO': [5, 7, 9, 16, 10, 9, 12, 8, 9],\n",
        "    'VERBEXP': [31, 36, 42, 45, 38, 32, 30, 28, 27],\n",
        "    'AGE': [6.4, 8.3, 7.2, 7.0, 7.6, 6.2, 8.4, 6.3, 8.2]\n",
        "}\n",
        "\n",
        "df = pd.DataFrame(data)\n",
        "\n",
        "# Separating features and target\n",
        "X = df[['PERF', 'INFO', 'VERBEXP', 'AGE']]\n",
        "y = df['Group']\n",
        "\n",
        "# Initialize LDA\n",
        "lda = LDA()\n",
        "\n",
        "# Fit the model\n",
        "lda.fit(X, y)\n",
        "\n",
        "# Get the coefficients\n",
        "coefficients = lda.coef_\n",
        "intercept = lda.intercept_\n",
        "\n",
        "# Display the results\n",
        "coefficients, intercept\n",
        "\n",
        "coefficients, intercept"
      ],
      "metadata": {
        "colab": {
          "base_uri": "https://localhost:8080/"
        },
        "id": "KYMzLj0Rwzyr",
        "outputId": "01c3c455-980c-4d4a-bf8d-68c442fcdcf0"
      },
      "execution_count": null,
      "outputs": [
        {
          "output_type": "execute_result",
          "data": {
            "text/plain": [
              "(array([[ 0.07326369,  1.69581   , -1.23902872, -0.06067268],\n",
              "        [ 0.63194641, -5.27940623,  1.33404635, -1.98479705],\n",
              "        [-0.7052101 ,  3.58359623, -0.09501763,  2.04546973]]),\n",
              " array([ 14.74795271, -51.82281562,  14.70389873]))"
            ]
          },
          "metadata": {},
          "execution_count": 3
        }
      ]
    },
    {
      "cell_type": "code",
      "source": [
        "coefficients\n"
      ],
      "metadata": {
        "colab": {
          "base_uri": "https://localhost:8080/"
        },
        "id": "veiwmztb0Qu2",
        "outputId": "70509e06-4c8b-4fab-c565-202ba9450ba5"
      },
      "execution_count": null,
      "outputs": [
        {
          "output_type": "execute_result",
          "data": {
            "text/plain": [
              "array([[ 0.07326369,  1.69581   , -1.23902872, -0.06067268],\n",
              "       [ 0.63194641, -5.27940623,  1.33404635, -1.98479705],\n",
              "       [-0.7052101 ,  3.58359623, -0.09501763,  2.04546973]])"
            ]
          },
          "metadata": {},
          "execution_count": 26
        }
      ]
    },
    {
      "cell_type": "code",
      "source": [
        "intercept"
      ],
      "metadata": {
        "colab": {
          "base_uri": "https://localhost:8080/"
        },
        "id": "2TCZbdFN5qSb",
        "outputId": "7f3c75eb-6940-4aba-fff4-0928d3bd072f"
      },
      "execution_count": null,
      "outputs": [
        {
          "output_type": "execute_result",
          "data": {
            "text/plain": [
              "array([ 14.74795271, -51.82281562,  14.70389873])"
            ]
          },
          "metadata": {},
          "execution_count": 40
        }
      ]
    },
    {
      "cell_type": "code",
      "source": [
        "prior_probabilities = lda.priors_\n",
        "prior_probabilities"
      ],
      "metadata": {
        "colab": {
          "base_uri": "https://localhost:8080/"
        },
        "id": "pwu2V22C7DlX",
        "outputId": "e309a762-e24e-4d03-edc4-df80f83960d0"
      },
      "execution_count": null,
      "outputs": [
        {
          "output_type": "execute_result",
          "data": {
            "text/plain": [
              "array([0.33333333, 0.33333333, 0.33333333])"
            ]
          },
          "metadata": {},
          "execution_count": 42
        }
      ]
    },
    {
      "cell_type": "code",
      "source": [
        "# Fungsi untuk menghitung nilai diskriminan\n",
        "def diskriminan_fungsi(x, coef, intercept):\n",
        "    return np.dot(x, coef) + intercept"
      ],
      "metadata": {
        "id": "Shx2nB-xxtS7"
      },
      "execution_count": null,
      "outputs": []
    },
    {
      "cell_type": "code",
      "source": [
        "data_1 = np.array([[87, 5, 31, 6.4]])"
      ],
      "metadata": {
        "id": "johthm0Tx3LN"
      },
      "execution_count": null,
      "outputs": []
    },
    {
      "cell_type": "code",
      "source": [
        "data_1.shape"
      ],
      "metadata": {
        "colab": {
          "base_uri": "https://localhost:8080/"
        },
        "id": "sK23aOx9y7p-",
        "outputId": "0ccce5a3-9d8b-44ff-a78b-e8f7c110c580"
      },
      "execution_count": null,
      "outputs": [
        {
          "output_type": "execute_result",
          "data": {
            "text/plain": [
              "(1, 4)"
            ]
          },
          "metadata": {},
          "execution_count": 19
        }
      ]
    },
    {
      "cell_type": "code",
      "source": [
        "# Menghitung nilai diskriminan untuk setiap kelompok\n",
        "D1 = diskriminan_fungsi(data_1, coefficients[0], intercept[0])\n",
        "D2 = diskriminan_fungsi(data_1, coefficients[1], intercept[1])\n",
        "D3 = diskriminan_fungsi(data_1, coefficients[2], intercept[2])"
      ],
      "metadata": {
        "id": "84izeri4x0A4"
      },
      "execution_count": null,
      "outputs": []
    },
    {
      "cell_type": "code",
      "source": [
        "# Menampilkan hasil\n",
        "print(\"Nilai Diskriminan untuk MEMORY (D1):\", D1)\n",
        "print(\"Nilai Diskriminan untuk PERCEPTION (D2):\", D2)\n",
        "print(\"Nilai Diskriminan untuk COMMUNICATION (D3):\", D3)"
      ],
      "metadata": {
        "colab": {
          "base_uri": "https://localhost:8080/"
        },
        "id": "5ozjJYKLzTjK",
        "outputId": "cdef21c7-9e80-4712-af54-165feca2f2b6"
      },
      "execution_count": null,
      "outputs": [
        {
          "output_type": "stream",
          "name": "stdout",
          "text": [
            "Nilai Diskriminan untuk MEMORY (D1): [-9.19725176]\n",
            "Nilai Diskriminan untuk PERCEPTION (D2): [5.41222624]\n",
            "Nilai Diskriminan untuk COMMUNICATION (D3): [-18.58593867]\n"
          ]
        }
      ]
    },
    {
      "cell_type": "code",
      "source": [
        "# Menentukan klasifikasi\n",
        "nilai_diskriminan = [D1, D2, D3]\n",
        "kelompok = ['MEMORY', 'PERCEPTION', 'COMMUNICATION']\n",
        "klasifikasi = kelompok[np.argmax(nilai_diskriminan)]\n",
        "print(\"Klasifikasi: \", klasifikasi)"
      ],
      "metadata": {
        "colab": {
          "base_uri": "https://localhost:8080/"
        },
        "id": "sCcrq_frzYPa",
        "outputId": "28d391c4-1b78-438b-fc08-a9dcdb9f1180"
      },
      "execution_count": null,
      "outputs": [
        {
          "output_type": "stream",
          "name": "stdout",
          "text": [
            "Klasifikasi:  PERCEPTION\n"
          ]
        }
      ]
    },
    {
      "cell_type": "code",
      "source": [
        "data"
      ],
      "metadata": {
        "colab": {
          "base_uri": "https://localhost:8080/"
        },
        "id": "UWWooWUM0ikx",
        "outputId": "a8dfa859-97f5-46f6-98df-e68036477364"
      },
      "execution_count": null,
      "outputs": [
        {
          "output_type": "execute_result",
          "data": {
            "text/plain": [
              "{'Group': ['MEMORY',\n",
              "  'MEMORY',\n",
              "  'MEMORY',\n",
              "  'PERCEPTION',\n",
              "  'PERCEPTION',\n",
              "  'PERCEPTION',\n",
              "  'COMMUNICATION',\n",
              "  'COMMUNICATION',\n",
              "  'COMMUNICATION'],\n",
              " 'PERF': [87, 97, 112, 102, 85, 76, 120, 85, 99],\n",
              " 'INFO': [5, 7, 9, 16, 10, 9, 12, 8, 9],\n",
              " 'VERBEXP': [31, 36, 42, 45, 38, 32, 30, 28, 27],\n",
              " 'AGE': [6.4, 8.3, 7.2, 7.0, 7.6, 6.2, 8.4, 6.3, 8.2]}"
            ]
          },
          "metadata": {},
          "execution_count": 28
        }
      ]
    },
    {
      "cell_type": "code",
      "source": [
        "\n",
        "# Data baru yang akan diklasifikasikan\n",
        "data_baru = np.array([\n",
        "    [87, 5, 31, 6.4],\n",
        "    [97, 7, 36, 8.3],\n",
        "    [112, 9, 42, 7.2],\n",
        "    [102, 16, 45, 7.0],\n",
        "    [85, 10, 38, 7.6],\n",
        "    [76, 9, 32, 6.2],\n",
        "    [120, 12, 30, 8.4],\n",
        "    [85, 8, 28, 6.3],\n",
        "    [99, 9, 27, 8.2]\n",
        "])\n",
        "\n",
        "\n",
        "# Menghitung nilai diskriminan untuk setiap kelompok\n",
        "D1 = diskriminan_fungsi(data_baru, coefficients[0], intercept[0])\n",
        "D2 = diskriminan_fungsi(data_baru, coefficients[1], intercept[1])\n",
        "D3 = diskriminan_fungsi(data_baru, coefficients[2], intercept[2])\n",
        "\n",
        "# Menentukan klasifikasi untuk setiap data\n",
        "kelompok = ['MEMORY', 'PERCEPTION', 'COMMUNICATION']\n",
        "klasifikasi = [kelompok[np.argmax([d1, d2, d3])] for d1, d2, d3 in zip(D1, D2, D3)]\n",
        "\n",
        "# Data asli dengan label yang benar\n",
        "label_asli = ['MEMORY', 'MEMORY', 'MEMORY', 'PERCEPTION', 'PERCEPTION', 'PERCEPTION', 'COMMUNICATION', 'COMMUNICATION', 'COMMUNICATION']\n",
        "\n",
        "# Menghitung akurasi\n",
        "akurasi = accuracy_score(label_asli, klasifikasi)\n",
        "print(\"Akurasi klasifikasi: {:.2f}%\".format(akurasi * 100))\n",
        "\n",
        "# Menampilkan hasil klasifikasi\n",
        "for i, k in enumerate(klasifikasi):\n",
        "    print(f\"Data {i+1} diklasifikasikan ke dalam kelompok: {k}\")\n"
      ],
      "metadata": {
        "colab": {
          "base_uri": "https://localhost:8080/"
        },
        "id": "8g_ZAHwzxout",
        "outputId": "80b91572-bc68-4caf-a179-2a32ce24befa"
      },
      "execution_count": null,
      "outputs": [
        {
          "output_type": "stream",
          "name": "stdout",
          "text": [
            "Akurasi klasifikasi: 0.00%\n",
            "Data 1 diklasifikasikan ke dalam kelompok: PERCEPTION\n",
            "Data 2 diklasifikasikan ke dalam kelompok: PERCEPTION\n",
            "Data 3 diklasifikasikan ke dalam kelompok: PERCEPTION\n",
            "Data 4 diklasifikasikan ke dalam kelompok: COMMUNICATION\n",
            "Data 5 diklasifikasikan ke dalam kelompok: COMMUNICATION\n",
            "Data 6 diklasifikasikan ke dalam kelompok: COMMUNICATION\n",
            "Data 7 diklasifikasikan ke dalam kelompok: MEMORY\n",
            "Data 8 diklasifikasikan ke dalam kelompok: MEMORY\n",
            "Data 9 diklasifikasikan ke dalam kelompok: MEMORY\n"
          ]
        }
      ]
    },
    {
      "cell_type": "markdown",
      "source": [
        "# Sesuai buku tabhanic"
      ],
      "metadata": {
        "id": "xcWgpJof2JVq"
      }
    },
    {
      "cell_type": "code",
      "source": [
        "import numpy as np\n",
        "import pandas as pd\n",
        "\n",
        "# Data preparation\n",
        "data = {\n",
        "    'Group': ['MEMORY', 'MEMORY', 'MEMORY', 'PERCEPTION', 'PERCEPTION', 'PERCEPTION', 'COMMUNICATION', 'COMMUNICATION', 'COMMUNICATION'],\n",
        "    'PERF': [87, 97, 112, 102, 85, 76, 120, 85, 99],\n",
        "    'INFO': [5, 7, 9, 16, 10, 9, 12, 8, 9],\n",
        "    'VERBEXP': [31, 36, 42, 45, 38, 32, 30, 28, 27],\n",
        "    'AGE': [6.4, 8.3, 7.2, 7.0, 7.6, 6.2, 8.4, 6.3, 8.2]\n",
        "}\n",
        "\n",
        "df = pd.DataFrame(data)\n",
        "\n",
        "# Memisahkan fitur dan target\n",
        "X = df[['PERF', 'INFO', 'VERBEXP', 'AGE']].values\n",
        "y = df['Group'].values\n",
        "\n",
        "# Hitung rata-rata untuk setiap kelompok\n",
        "mean_vectors = []\n",
        "groups = np.unique(y)\n",
        "for group in groups:\n",
        "    mean_vectors.append(np.mean(X[y == group], axis=0))\n",
        "\n",
        "# Hitung rata-rata keseluruhan\n",
        "overall_mean = np.mean(X, axis=0)\n",
        "\n",
        "# Hitung Swg (dalam kelompok)\n",
        "Swg = np.zeros((X.shape[1], X.shape[1]))\n",
        "for group, mean_vec in zip(groups, mean_vectors):\n",
        "    group_scatter = np.zeros((X.shape[1], X.shape[1]))\n",
        "    for row in X[y == group]:\n",
        "        row, mean_vec = row.reshape(X.shape[1], 1), mean_vec.reshape(X.shape[1], 1)\n",
        "        group_scatter += (row - mean_vec).dot((row - mean_vec).T)\n",
        "    Swg += group_scatter\n",
        "\n",
        "# Hitung Sbg (antara kelompok)\n",
        "Sbg = np.zeros((X.shape[1], X.shape[1]))\n",
        "for mean_vec in mean_vectors:\n",
        "    mean_vec = mean_vec.reshape(X.shape[1], 1)\n",
        "    overall_mean = overall_mean.reshape(X.shape[1], 1)\n",
        "    n = X[y == group].shape[0]\n",
        "    Sbg += n * (mean_vec - overall_mean).dot((mean_vec - overall_mean).T)\n",
        "\n",
        "Swg, Sbg\n"
      ],
      "metadata": {
        "colab": {
          "base_uri": "https://localhost:8080/"
        },
        "id": "DhrF2F510331",
        "outputId": "f68374ca-8e08-41b1-ca43-eccceddbb409"
      },
      "execution_count": null,
      "outputs": [
        {
          "output_type": "execute_result",
          "data": {
            "text/plain": [
              "(array([[1286.        ,  220.        ,  348.33333333,   50.        ],\n",
              "        [ 220.        ,   45.33333333,   73.66666667,    6.36666667],\n",
              "        [ 348.33333333,   73.66666667,  150.        ,    9.73333333],\n",
              "        [  50.        ,    6.36666667,    9.73333333,    5.49333333]]),\n",
              " array([[ 314.88888889,  -71.55555556, -180.        ,   14.48888889],\n",
              "        [ -71.55555556,   32.88888889,    8.        ,   -2.22222222],\n",
              "        [-180.        ,    8.        ,  168.        ,  -10.4       ],\n",
              "        [  14.48888889,   -2.22222222,  -10.4       ,    0.73555556]]))"
            ]
          },
          "metadata": {},
          "execution_count": 32
        }
      ]
    },
    {
      "cell_type": "code",
      "source": [
        "print(Swg)"
      ],
      "metadata": {
        "colab": {
          "base_uri": "https://localhost:8080/"
        },
        "id": "XnrNLpnw2Nhf",
        "outputId": "d5d1a94d-a3a7-4f46-b217-6f9cced34373"
      },
      "execution_count": null,
      "outputs": [
        {
          "output_type": "stream",
          "name": "stdout",
          "text": [
            "[[1286.          220.          348.33333333   50.        ]\n",
            " [ 220.           45.33333333   73.66666667    6.36666667]\n",
            " [ 348.33333333   73.66666667  150.            9.73333333]\n",
            " [  50.            6.36666667    9.73333333    5.49333333]]\n"
          ]
        }
      ]
    },
    {
      "cell_type": "code",
      "source": [
        "print(Sbg)"
      ],
      "metadata": {
        "colab": {
          "base_uri": "https://localhost:8080/"
        },
        "id": "wDDsRc1c2T1X",
        "outputId": "8300bd5a-50e7-47da-b997-32248371b733"
      },
      "execution_count": null,
      "outputs": [
        {
          "output_type": "stream",
          "name": "stdout",
          "text": [
            "[[ 314.88888889  -71.55555556 -180.           14.48888889]\n",
            " [ -71.55555556   32.88888889    8.           -2.22222222]\n",
            " [-180.            8.          168.          -10.4       ]\n",
            " [  14.48888889   -2.22222222  -10.4           0.73555556]]\n"
          ]
        }
      ]
    },
    {
      "cell_type": "code",
      "source": [
        "# Menghitung S_total\n",
        "S_total = Sbg + Swg\n",
        "\n",
        "S_total\n"
      ],
      "metadata": {
        "colab": {
          "base_uri": "https://localhost:8080/"
        },
        "id": "m7ICO3Jo2dXt",
        "outputId": "d2fcf191-34b0-43d7-92f2-ebd7216df303"
      },
      "execution_count": null,
      "outputs": [
        {
          "output_type": "execute_result",
          "data": {
            "text/plain": [
              "array([[ 1.60088889e+03,  1.48444444e+02,  1.68333333e+02,\n",
              "         6.44888889e+01],\n",
              "       [ 1.48444444e+02,  7.82222222e+01,  8.16666667e+01,\n",
              "         4.14444444e+00],\n",
              "       [ 1.68333333e+02,  8.16666667e+01,  3.18000000e+02,\n",
              "        -6.66666667e-01],\n",
              "       [ 6.44888889e+01,  4.14444444e+00, -6.66666667e-01,\n",
              "         6.22888889e+00]])"
            ]
          },
          "metadata": {},
          "execution_count": 35
        }
      ]
    },
    {
      "cell_type": "code",
      "source": [
        "# Menghitung determinan dari Swg dan S_total\n",
        "det_Swg = np.linalg.det(Swg)\n",
        "det_S_total = np.linalg.det(S_total)\n",
        "\n",
        "det_Swg, det_S_total\n"
      ],
      "metadata": {
        "colab": {
          "base_uri": "https://localhost:8080/"
        },
        "id": "VMJmx5j32tN-",
        "outputId": "fd4c5257-da71-480d-f4d0-4b325d55b10c"
      },
      "execution_count": null,
      "outputs": [
        {
          "output_type": "execute_result",
          "data": {
            "text/plain": [
              "(866426.091481479, 82701127.84111089)"
            ]
          },
          "metadata": {},
          "execution_count": 36
        }
      ]
    },
    {
      "cell_type": "code",
      "source": [
        "# Menghitung Wilks' Lambda\n",
        "wilks_lambda = det_Swg / det_S_total\n",
        "wilks_lambda\n"
      ],
      "metadata": {
        "colab": {
          "base_uri": "https://localhost:8080/"
        },
        "id": "EHWX9kxT3TVH",
        "outputId": "412c9e33-bf1f-46a8-8b7b-e5ec91093b42"
      },
      "execution_count": null,
      "outputs": [
        {
          "output_type": "execute_result",
          "data": {
            "text/plain": [
              "0.010476593416550445"
            ]
          },
          "metadata": {},
          "execution_count": 37
        }
      ]
    },
    {
      "cell_type": "code",
      "source": [
        "# Variabel yang dibutuhkan\n",
        "p = 4  # jumlah variabel prediktor\n",
        "k = 3  # jumlah kelompok\n",
        "N = 9  # total sampel\n",
        "\n",
        "df_bg = k - 1\n",
        "df_wg = N - k\n",
        "\n",
        "# Hitung nilai s dan y\n",
        "s = min(p, k - 1)\n",
        "y = np.sqrt(wilks_lambda)\n",
        "\n",
        "# Hitung df1 dan df2\n",
        "df1 = p * (k - 1)\n",
        "df2 = N - k - (p / 2)\n",
        "\n",
        "# Hitung nilai F\n",
        "F = ((1 - wilks_lambda) / wilks_lambda) * (df2 / df1)\n",
        "F"
      ],
      "metadata": {
        "colab": {
          "base_uri": "https://localhost:8080/"
        },
        "id": "T37OHUOx3g1L",
        "outputId": "18e1945e-590a-4d35-a0cc-4accaf966c80"
      },
      "execution_count": null,
      "outputs": [
        {
          "output_type": "execute_result",
          "data": {
            "text/plain": [
              "47.22543708817818"
            ]
          },
          "metadata": {},
          "execution_count": 39
        }
      ]
    }
  ]
}